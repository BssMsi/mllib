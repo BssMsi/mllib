{
 "cells": [
  {
   "cell_type": "code",
   "execution_count": 15,
   "metadata": {},
   "outputs": [],
   "source": [
    "import numpy as np\n",
    "import matplotlib as mpl\n",
    "import matplotlib.pyplot as plt\n",
    "mpl.rcParams['text.color'], mpl.rcParams['axes.labelcolor'], mpl.rcParams['xtick.color'], mpl.rcParams['ytick.color'] = ['white']*4"
   ]
  },
  {
   "cell_type": "code",
   "execution_count": 14,
   "metadata": {},
   "outputs": [],
   "source": [
    "import os\n",
    "import sys\n",
    "sys.path.append(os.path.abspath('..'))\n",
    "from preprocess.preprocessing import Normalizer"
   ]
  },
  {
   "cell_type": "code",
   "execution_count": 41,
   "metadata": {},
   "outputs": [],
   "source": [
    "# https://www.analyticsvidhya.com/blog/2016/01/ridge-lasso-regression-python-complete-tutorial/#three\n",
    "# https://medium.com/analytics-vidhya/math-behind-linear-ridge-and-lasso-regression-b9de216ebdf8\n",
    "# https://courses.cs.washington.edu/courses/cse446/17wi/slides/lasso.pdf\n",
    "# https://statweb.stanford.edu/~owen/courses/305a/Rudyregularization.pdf\n",
    "# https://towardsdatascience.com/ridge-regression-python-example-f015345d936b\n",
    "class LinearRegression:\n",
    "    def __init__(self, method='closed', alpha=0.1, fit_intercept=True, regularization='', reg_intercept=False, penalty=0.1, n_iters=400):\n",
    "        '''\n",
    "        method:[None or 'closed', 'cd', 'gd'] - 'cd': Coordinate Descent method, None or 'closed': , gd': Gradient Descent method\n",
    "        alpha:float - if method is 'gd': Learning rate in case of Gradient descent\n",
    "                      if method is 'cd' and regularization is 'elastic-net': Elastic-net alpha parameter\n",
    "        fit_intercept:bool - To use the intercept term, if False, X is assumed to be centered\n",
    "        # TODO - LAR Method (Pg 94, Elements of Statistical Leanring)\n",
    "        regularization:[None, 'l1' | 'lasso', 'l2' | 'ridge'] - None: Ordinary Least Squares method,\n",
    "                                                                'l1' or 'lasso': Lasso Regression which is Least Squares with L1 regularization / penalty\n",
    "                                                                'l2' or 'ridge': Ridge Regression which is Least Squares with L2 regularization / penalty\n",
    "        # TODO - Elastic-Net regularization (Pg 93, Elements of Statistical Leanring)\n",
    "        reg_intercept:bool - If fit_intercept is True and regularization is not None, whether to regularize the intercept or not\n",
    "        penalty:float - a.k.a lambda, multiplier that controls \n",
    "        n_iters:int - number of iterations in case of Gradient Descent Method\n",
    "        '''\n",
    "        if regularization is None:\n",
    "            self.reg = None\n",
    "        else:\n",
    "            regularization = regularization.lower()\n",
    "            if regularization == 'l1' or regularization == 'lasso':\n",
    "                self.reg = 'l1'\n",
    "            elif regularization == 'l2' or regularization == 'ridge':\n",
    "                self.reg = 'l2'\n",
    "        method = method.lower()\n",
    "        if method == 'gd':\n",
    "            assert self.reg == 'l2' or self.reg is None, \"Gradient descent method can only be used with L2 regularization or None\"\n",
    "        self.method = method\n",
    "        self.penalty = penalty\n",
    "        self.reg_intercept = reg_intercept\n",
    "        self.fit_intercept = fit_intercept\n",
    "        self.W = np.array([])\n",
    "        self.alpha = alpha\n",
    "        self.n_iters = n_iters\n",
    "    \n",
    "    def train(self, X, y):\n",
    "        '''\n",
    "        X - (n_datapoints, n_features)\n",
    "        y - (n_datapoints, 1)\n",
    "        '''\n",
    "        if self.fit_intercept:\n",
    "            # To accomodate the bias / y-intercept term\n",
    "            X = np.insert(X, 0, np.ones(X.shape[0]), axis=1)\n",
    "        n_datapoints, n_features = X.shape\n",
    "        assert y.size == n_datapoints, \"X and y must have same number of rows\"\n",
    "        W = np.random.rand(n_features, 1)\n",
    "        try:\n",
    "            # Closed form\n",
    "            if self.method == 'closed':\n",
    "                if self.reg is None:\n",
    "                    W = np.linalg.pinv(X.T@X) @ X.T @ y\n",
    "                    # Use pinv (Moore-Penrose Pseudo inverse) so that the case (X.T*X) is non-invertible is handled\n",
    "                    # Cases when (X.T*X) might be non-invertible - 1. linearly dependent features, 2. too many features (i.e n_datapoints <= n_features)\n",
    "                elif self.reg == 'l1':\n",
    "                    print(\"Lasso Regression doesn't have a closed form\")\n",
    "                    raise ValueError\n",
    "                elif self.reg == 'l2':\n",
    "                    I = np.eye(n_features)\n",
    "                    if not(self.reg_intercept):    # Don't regularize intercept term\n",
    "                        I[0, 0] = 0\n",
    "                    W = np.linalg.pinv(X.T@X+self.alpha*I) @ X.T @ y\n",
    "                else:\n",
    "                    print(\"Unrecognized regularization for Closed form method\")\n",
    "                    raise NotImplemented\n",
    "            # Using Gradient Descent\n",
    "            elif self.method == 'gd':\n",
    "                if self.reg is None:\n",
    "                    for i in range(self.n_iters):\n",
    "                        W -= self.alpha / n_datapoints * (X.T @ (np.dot(X, W).ravel() - y))\n",
    "                elif self.reg == 'l1':\n",
    "                    # http://www.cs.cmu.edu/afs/cs/project/link-3/lafferty/www/ml-stat2/talks/YondaiKimGLasso-SLIDE-YD.pdf\n",
    "                    print(\"Gradient Descent not implemented for Lasso\")\n",
    "                    raise NotImplementedError\n",
    "                elif self.reg == 'l2':\n",
    "                    if self.fit_intercept and not(self.reg_intercept):\n",
    "                        for i in range(self.n_iters):\n",
    "                            W[0] -= self.alpha / n_datapoints * (X[:, 0] @ (X[:, 0]*W[0] - y))\n",
    "                            W[1:] = W[1:]*(1-self.alpha * self.penalty / n_datapoints) - \\\n",
    "                                            self.alpha / n_datapoints * (X[:, 1:].T @ (np.dot(X[:, 1:], W[1:]).ravel() - y))\n",
    "                    else:\n",
    "                        for i in range(self.n_iters):\n",
    "                            W = W*(1-self.alpha * self.penalty / n_datapoints) - \\\n",
    "                                            self.alpha / n_datapoints * (X.T @ (np.dot(X, W).ravel() - y))\n",
    "            # Using Coordinate Descent\n",
    "            elif self.method == 'cd':\n",
    "                i = 0\n",
    "                if self.reg is None:\n",
    "                    print(\"Not yet implemented\")\n",
    "                    raise NotImplementedError\n",
    "                elif self.reg == 'l1':\n",
    "                    z = np.sum(X**2, axis=0)\n",
    "                    while i < self.n_iters:\n",
    "                        for j in range(n_features):\n",
    "                            residuals = y - np.dot(X, W).ravel()\n",
    "                            # Track cost\n",
    "                            # cost.append(float(residuals.T@residuals) + self.penalty*np.sum(np.abs(W)))\n",
    "                            rho = X[:, j] @ (residuals + W[j]*X[:, j])\n",
    "                            if not(self.reg_intercept) and self.fit_intercept and j == 0:\n",
    "                                W[j] = rho / z[j]\n",
    "                            else:\n",
    "                                # Soft-thresholding\n",
    "                                if rho < -self.penalty /2:\n",
    "                                    W[j] = (rho + self.penalty / 2) / z[j]\n",
    "                                elif rho > self.penalty:\n",
    "                                    W[j] = (rho - self.penalty / 2) / z[j]\n",
    "                                else:\n",
    "                                    W[j] = 0\n",
    "                            # Hard thresholding (Best-subset selection drops all variables with coefficients smaller than the Mth largest)\n",
    "                        i += 1\n",
    "                elif self.reg == 'l2':\n",
    "                    print(\"Not yet implemented\")\n",
    "                    raise NotImplementedError\n",
    "                elif self.reg == 'elastic-net':\n",
    "                    z = np.sum(X**2, axis=0)\n",
    "                    while i < self.n_iters:\n",
    "                        for j in range(n_features):\n",
    "                            residuals = y - np.dot(X, W).ravel()\n",
    "                            # Track cost\n",
    "                            # cost.append(float(residuals.T@residuals) + self.penalty*np.sum(np.abs(W)))\n",
    "                            rho = X[:, j] @ (residuals + W[j]*X[:, j])\n",
    "                            if not(self.reg_intercept) and self.fit_intercept and j == 0:\n",
    "                                W[j] = rho / z[j]\n",
    "                            else:\n",
    "                                # Soft-thresholding\n",
    "                                if rho < -self.penalty /2:\n",
    "                                    W[j] = (rho + self.penalty / 2) / z[j]\n",
    "                                elif rho > self.penalty:\n",
    "                                    W[j] = (rho - self.penalty / 2) / z[j]\n",
    "                                else:\n",
    "                                    W[j] = 0\n",
    "                            # Hard thresholding (Best-subset selection drops all variables with coefficients smaller than the Mth largest)\n",
    "                        i += 1\n",
    "                    #self.penalty * np.sum(self.alpha * self.W**2 + (1-self.alpha) * np.abs(self.W))\n",
    "            else:\n",
    "                print(\"Unknown method, might not be implemented yet, training failed\")\n",
    "                raise NotImplementedError\n",
    "            self.W = W\n",
    "        except Exception as e:\n",
    "            print(X.shape, self.W.shape, y.shape, n_features, n_datapoints)\n",
    "            print(e.stackTrace())\n",
    "\n",
    "    def predict(self, X):\n",
    "        if self.fit_intercept:\n",
    "            return (np.insert(X, 0, np.ones(X.shape[0]), axis=1)@self.W).ravel()\n",
    "        return (X@self.W).ravel()\n",
    "    \n",
    "    @staticmethod\n",
    "    def r2_score(y, y_pred):\n",
    "        if y.ndim > 1:\n",
    "            y = y.reshape(-1)\n",
    "        if y_pred.ndim > 1:\n",
    "            y_pred = y_pred.reshape(-1)\n",
    "        y_mean = y.mean()\n",
    "        return 1 - ((y-y_pred)@(y-y_pred)) / ((y-y_mean)@(y-y_mean))"
   ]
  },
  {
   "cell_type": "markdown",
   "metadata": {},
   "source": [
    "# Lasso Regression"
   ]
  },
  {
   "cell_type": "code",
   "execution_count": 50,
   "metadata": {},
   "outputs": [],
   "source": [
    "class Lasso(LinearRegression):\n",
    "    '''\n",
    "    Use regularization = penalty * L1\n",
    "    Use coordinate dedscent by default Loss function is convex and non-differentiable\n",
    "    '''\n",
    "    def __init__(self, method='cd', fit_intercept=True, alpha=0.1, penalty=0.1, n_iters=400):\n",
    "        super().__init__(method=method, fit_intercept=fit_intercept, alpha=alpha, regularization='l1', penalty=penalty, n_iters=n_iters)"
   ]
  },
  {
   "cell_type": "markdown",
   "metadata": {},
   "source": [
    "# Ridge Regression"
   ]
  },
  {
   "cell_type": "code",
   "execution_count": 55,
   "metadata": {},
   "outputs": [],
   "source": [
    "class Ridge(LinearRegression):\n",
    "    '''\n",
    "    Use regularization = penalty * L2\n",
    "    '''\n",
    "    def __init__(self, method='closed', fit_intercept=True, alpha=0.1, penalty=0.1, n_iters=400):\n",
    "        super().__init__(method=method, fit_intercept=fit_intercept, alpha=alpha, regularization='l2', penalty=penalty, n_iters=n_iters)"
   ]
  },
  {
   "cell_type": "markdown",
   "metadata": {},
   "source": [
    "# Elastic Net Regression"
   ]
  },
  {
   "cell_type": "code",
   "execution_count": 57,
   "metadata": {},
   "outputs": [],
   "source": [
    "class ElasticNet(LinearRegression):\n",
    "    '''\n",
    "    Use regularization = alpha * L1 + penalty * L2\n",
    "    '''\n",
    "    def __init__(self, method='closed', fit_intercept=True, alpha=0.1, penalty=0.1, n_iters=400):\n",
    "        super().__init__(method=method, fit_intercept=fit_intercept, alpha=alpha, regularization='elastic-net', penalty=penalty, n_iters=n_iters)    "
   ]
  },
  {
   "cell_type": "markdown",
   "metadata": {},
   "source": [
    "# Comparing with sklearn module"
   ]
  },
  {
   "cell_type": "markdown",
   "metadata": {},
   "source": [
    "## Binary Regression"
   ]
  },
  {
   "cell_type": "markdown",
   "metadata": {},
   "source": [
    "### Helper function to compare and plot"
   ]
  },
  {
   "cell_type": "code",
   "execution_count": 46,
   "metadata": {},
   "outputs": [],
   "source": [
    "from sklearn.model_selection import train_test_split\n",
    "from sklearn.metrics import r2_score\n",
    "def plot_pipe(X, y, models, feature=None, fit_intercept=True, normalize=False, norm_method=\"fro\", penalty=0.1, test_size=0.3):\n",
    "    plt.figure(figsize=(10,15))\n",
    "    if X.ndim == 2:\n",
    "        if X.shape[1] > 1:\n",
    "            if feature is None:\n",
    "                print(\"Supported only for 1 feature, ignoring other features\")\n",
    "                X = X[:, 0].reshape(-1, 1)\n",
    "            else:\n",
    "                X = X[:, feature].reshape(-1, 1)\n",
    "    X_train, X_test, y_train, y_test = train_test_split(X, y, test_size=test_size)\n",
    "    plt.scatter(X_train, y_train, color='black')\n",
    "    plt.scatter(X_test, y_test, color='blue')\n",
    "    legend = []\n",
    "    for k in models:\n",
    "        if 'sk' in k:\n",
    "            r = models[k](fit_intercept=fit_intercept, normalize=normalize)\n",
    "            r.fit(X_train, y_train.reshape(-1, 1))\n",
    "            cf = [r.intercept_, r.coef_]\n",
    "        else:\n",
    "            if normalize:\n",
    "                X_train = Normalizer(method=norm_method).normalize(X_train)\n",
    "                X_test = Normalizer(method=norm_method).normalize(X_test)\n",
    "            r = models[k](fit_intercept=fit_intercept, penalty=penalty)\n",
    "            r.train(X_train, y_train)\n",
    "            cf = r.W\n",
    "\n",
    "        y_pred = r.predict(X)\n",
    "        print(\"-\"*20, k, \"-\"*20)\n",
    "        print(\"Coefficients - \", cf)\n",
    "        print(\"sklearn R2 scores ---------\")\n",
    "        print(\"Test R2 score = \", r2_score(y_test, r.predict(X_test)))\n",
    "        print(\"Whole dataset R2 score = \", r2_score(y, y_pred))\n",
    "        print(\"My R2 scores ---------\")\n",
    "        print(\"Test R2 score = \", LinearRegression().r2_score(y_test, r.predict(X_test)))\n",
    "        print(\"Whole dataset R2 score = \", LinearRegression().r2_score(y, y_pred))\n",
    "        \n",
    "        plt.plot([X.max(), X.min()], [y_pred.max(), y_pred.min()])\n",
    "        \n",
    "        legend.append(k)\n",
    "    legend.extend([\"Train\", \"Test\"])\n",
    "    plt.legend(legend)"
   ]
  },
  {
   "cell_type": "code",
   "execution_count": 56,
   "metadata": {},
   "outputs": [
    {
     "name": "stdout",
     "output_type": "stream",
     "text": [
      "-------------------- skLR --------------------\n",
      "Coefficients -  [array([-0.4497992]), array([[1.5060241]])]\n",
      "sklearn R2 scores ---------\n",
      "Test R2 score =  0.9589125733704049\n",
      "Whole dataset R2 score =  0.9860837076529113\n",
      "My R2 scores ---------\n",
      "Test R2 score =  0.9589125733704049\n",
      "Whole dataset R2 score =  0.9860837076529113\n",
      "-------------------- myLR --------------------\n",
      "Coefficients -  [-0.4497992  1.5060241]\n",
      "sklearn R2 scores ---------\n",
      "Test R2 score =  0.9589125733704057\n",
      "Whole dataset R2 score =  0.9860837076529115\n",
      "My R2 scores ---------\n",
      "Test R2 score =  0.9589125733704057\n",
      "Whole dataset R2 score =  0.9860837076529115\n",
      "-------------------- skLasso --------------------\n",
      "Coefficients -  [array([0.34538153]), array([1.36144578])]\n",
      "sklearn R2 scores ---------\n",
      "Test R2 score =  0.98671609514983\n",
      "Whole dataset R2 score =  0.9849502539775828\n",
      "My R2 scores ---------\n",
      "Test R2 score =  0.98671609514983\n",
      "Whole dataset R2 score =  0.9849502539775828\n",
      "-------------------- myLasso --------------------\n",
      "Coefficients -  [[-0.38353414]\n",
      " [ 1.4939759 ]]\n",
      "sklearn R2 scores ---------\n",
      "Test R2 score =  0.9625038616002474\n",
      "Whole dataset R2 score =  0.9867685025817556\n",
      "My R2 scores ---------\n",
      "Test R2 score =  0.9625038616002474\n",
      "Whole dataset R2 score =  0.9867685025817556\n",
      "-------------------- skRidge --------------------\n",
      "Coefficients -  [array([-0.25490196]), array([[1.47058824]])]\n",
      "sklearn R2 scores ---------\n",
      "Test R2 score =  0.9688137698518321\n",
      "Whole dataset R2 score =  0.9876933556779958\n",
      "My R2 scores ---------\n",
      "Test R2 score =  0.9688137698518321\n",
      "Whole dataset R2 score =  0.9876933556779958\n",
      "-------------------- myRidge --------------------\n",
      "Coefficients -  [-0.42988782  1.50240385]\n",
      "sklearn R2 scores ---------\n",
      "Test R2 score =  0.960016036753482\n",
      "Whole dataset R2 score =  0.986304365546252\n",
      "My R2 scores ---------\n",
      "Test R2 score =  0.960016036753482\n",
      "Whole dataset R2 score =  0.986304365546252\n"
     ]
    },
    {
     "data": {
      "image/png": "[encoded data removed]",
      "text/plain": [
       "<Figure size 720x1080 with 1 Axes>"
      ]
     },
     "metadata": {
      "needs_background": "light"
     },
     "output_type": "display_data"
    }
   ],
   "source": [
    "from sklearn import linear_model\n",
    "X = np.array([1,2,3,4,5,6,7,8,9]).reshape(-1, 1)\n",
    "y = np.array([1,3,5,6,7,8,10,12,13])\n",
    "models = {\n",
    "    'skLR': linear_model.LinearRegression,\n",
    "    'myLR': LinearRegression,\n",
    "    'skLasso': linear_model.Lasso,\n",
    "    'myLasso': Lasso,\n",
    "    'skRidge': linear_model.Ridge,\n",
    "    'myRidge': Ridge\n",
    "}\n",
    "plot_pipe(X, y, models, feature=2, fit_intercept=True, penalty=1)"
   ]
  },
  {
   "cell_type": "markdown",
   "metadata": {},
   "source": [
    "## Multi Linear Regression"
   ]
  },
  {
   "cell_type": "code",
   "execution_count": null,
   "metadata": {},
   "outputs": [],
   "source": [
    "from sklearn import datasets, linear_model\n",
    "X, y = datasets.load_diabetes(return_X_y=True)\n"
   ]
  },
  {
   "cell_type": "code",
   "execution_count": null,
   "metadata": {},
   "outputs": [],
   "source": []
  },
  {
   "cell_type": "code",
   "execution_count": null,
   "metadata": {},
   "outputs": [],
   "source": []
  },
  {
   "cell_type": "code",
   "execution_count": null,
   "metadata": {},
   "outputs": [],
   "source": []
  },
  {
   "cell_type": "code",
   "execution_count": null,
   "metadata": {},
   "outputs": [],
   "source": []
  },
  {
   "cell_type": "code",
   "execution_count": null,
   "metadata": {},
   "outputs": [],
   "source": []
  },
  {
   "cell_type": "code",
   "execution_count": 1,
   "metadata": {},
   "outputs": [],
   "source": [
    "def display_plot(cv_scores, cv_scores_std):\n",
    "    fig = plt.figure()\n",
    "    ax = fig.add_subplot(1,1,1)\n",
    "    ax.plot(alpha_space, cv_scores)\n",
    "\n",
    "    std_error = cv_scores_std / np.sqrt(10)\n",
    "\n",
    "    ax.fill_between(alpha_space, cv_scores + std_error, cv_scores - std_error, alpha=0.2)\n",
    "    ax.set_ylabel('CV Score +/- Std Error')\n",
    "    ax.set_xlabel('Alpha')\n",
    "    ax.axhline(np.max(cv_scores), linestyle='--', color='.5')\n",
    "    ax.set_xlim([alpha_space[0], alpha_space[-1]])\n",
    "    ax.set_xscale('log')\n",
    "    plt.show()"
   ]
  },
  {
   "cell_type": "code",
   "execution_count": 5,
   "metadata": {},
   "outputs": [
    {
     "data": {
      "image/png": "[encoded data removed]",
      "text/plain": [
       "<Figure size 432x288 with 1 Axes>"
      ]
     },
     "metadata": {
      "needs_background": "light"
     },
     "output_type": "display_data"
    }
   ],
   "source": [
    "# Import necessary modules\n",
    "from sklearn.linear_model import Ridge\n",
    "from sklearn.model_selection import cross_val_score\n",
    "\n",
    "# Setup the array of alphas and lists to store scores\n",
    "alpha_space = np.logspace(-4, 0, 50)\n",
    "ridge_scores = []\n",
    "ridge_scores_std = []\n",
    "\n",
    "# Create a ridge regressor: ridge\n",
    "ridge = Ridge(normalize=True)\n",
    "\n",
    "# Compute scores over range of alphas\n",
    "for alpha in alpha_space:\n",
    "\n",
    "    # Specify the alpha value to use: ridge.alpha\n",
    "    ridge.alpha = alpha\n",
    "    \n",
    "    # Perform 10-fold CV: ridge_cv_scores\n",
    "    ridge_cv_scores = cross_val_score(ridge, X_train, y_train, cv=10)\n",
    "    \n",
    "    # Append the mean of ridge_cv_scores to ridge_scores\n",
    "    ridge_scores.append(np.mean(ridge_cv_scores))\n",
    "    \n",
    "    # Append the std of ridge_cv_scores to ridge_scores_std\n",
    "    ridge_scores_std.append(np.std(ridge_cv_scores))\n",
    "\n",
    "# Display the plot\n",
    "display_plot(ridge_scores, ridge_scores_std)\n"
   ]
  },
  {
   "cell_type": "code",
   "execution_count": null,
   "metadata": {},
   "outputs": [],
   "source": [
    "def display_plot(cv_scores, cv_scores_std):\n",
    "    fig = plt.figure()\n",
    "    ax = fig.add_subplot(1,1,1)\n",
    "    ax.plot(alpha_space, cv_scores)\n",
    "\n",
    "    std_error = cv_scores_std / np.sqrt(10)\n",
    "\n",
    "    ax.fill_between(alpha_space, cv_scores + std_error, cv_scores - std_error, alpha=0.2)\n",
    "    ax.set_ylabel('CV Score +/- Std Error')\n",
    "    ax.set_xlabel('Alpha')\n",
    "    ax.axhline(np.max(cv_scores), linestyle='--', color='.5')\n",
    "    ax.set_xlim([alpha_space[0], alpha_space[-1]])\n",
    "    ax.set_xscale('log')\n",
    "    plt.show()"
   ]
  }
 ],
 "metadata": {
  "kernelspec": {
   "display_name": "Python 3",
   "language": "python",
   "name": "python3"
  },
  "language_info": {
   "codemirror_mode": {
    "name": "ipython",
    "version": 3
   },
   "file_extension": ".py",
   "mimetype": "text/x-python",
   "name": "python",
   "nbconvert_exporter": "python",
   "pygments_lexer": "ipython3",
   "version": "3.7.7"
  }
 },
 "nbformat": 4,
 "nbformat_minor": 4
}
